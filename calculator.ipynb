{
  "nbformat": 4,
  "nbformat_minor": 0,
  "metadata": {
    "colab": {
      "provenance": [],
      "authorship_tag": "ABX9TyOQCYHF2PCgb6RFSdvf09B7",
      "include_colab_link": true
    },
    "kernelspec": {
      "name": "python3",
      "display_name": "Python 3"
    },
    "language_info": {
      "name": "python"
    }
  },
  "cells": [
    {
      "cell_type": "markdown",
      "metadata": {
        "id": "view-in-github",
        "colab_type": "text"
      },
      "source": [
        "<a href=\"https://colab.research.google.com/github/Satishpasam1/CODSOFT/blob/main/calculator.ipynb\" target=\"_parent\"><img src=\"https://colab.research.google.com/assets/colab-badge.svg\" alt=\"Open In Colab\"/></a>"
      ]
    },
    {
      "cell_type": "code",
      "execution_count": 8,
      "metadata": {
        "colab": {
          "base_uri": "https://localhost:8080/"
        },
        "id": "eQIKgmd6kt0N",
        "outputId": "54aa3671-1566-4a8a-96a6-61830194f214"
      },
      "outputs": [
        {
          "output_type": "stream",
          "name": "stdout",
          "text": [
            "Enter the 1st number: 2\n",
            "Enter the 2nd number: 4\n",
            "Enter the operation (add, sub, mult, div): div\n",
            "The result of multiplication is: 0.5\n"
          ]
        }
      ],
      "source": [
        "from ast import Mult\n",
        "\n",
        "# Get inputs from the user\n",
        "a = int(input(\"Enter the 1st number: \"))\n",
        "b = int(input(\"Enter the 2nd number: \"))\n",
        "c = input(\"Enter the operation (add, sub, mult, div): \").lower()\n",
        "\n",
        "# Perform the operation\n",
        "if c == \"add\":\n",
        "    print(f\"The result of addition is: {a + b}\")\n",
        "elif c == \"sub\":\n",
        "    print(f\"The result of subtraction is: {a - b}\")\n",
        "elif c == \"mult\":\n",
        "    print(f\"The result of multiplication is: {a * b}\")\n",
        "elif c == \"div\":\n",
        "    print(f\"The result of multiplication is: {a / b}\")\n",
        "else:\n",
        "    print(\"Invalid operation. Please enter 'add', 'sub', 'mult', or 'div'.\")\n"
      ]
    }
  ]
}