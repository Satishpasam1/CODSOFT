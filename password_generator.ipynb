{
  "nbformat": 4,
  "nbformat_minor": 0,
  "metadata": {
    "colab": {
      "provenance": [],
      "authorship_tag": "ABX9TyNNdIAVNd75uoVO0TLVJC13",
      "include_colab_link": true
    },
    "kernelspec": {
      "name": "python3",
      "display_name": "Python 3"
    },
    "language_info": {
      "name": "python"
    }
  },
  "cells": [
    {
      "cell_type": "markdown",
      "metadata": {
        "id": "view-in-github",
        "colab_type": "text"
      },
      "source": [
        "<a href=\"https://colab.research.google.com/github/Satishpasam1/CODSOFT/blob/main/password_generator.ipynb\" target=\"_parent\"><img src=\"https://colab.research.google.com/assets/colab-badge.svg\" alt=\"Open In Colab\"/></a>"
      ]
    },
    {
      "cell_type": "code",
      "execution_count": 1,
      "metadata": {
        "colab": {
          "base_uri": "https://localhost:8080/"
        },
        "id": "AMs-qzzQsDZF",
        "outputId": "d7c7268b-fd51-45b1-8a17-0b08cd0c85d7"
      },
      "outputs": [
        {
          "output_type": "stream",
          "name": "stdout",
          "text": [
            "Welcome to the Password Generator!\n",
            "Enter the desired password length: 6\n",
            "\n",
            "Choose the password complexity:\n",
            "1. Only letters (lowercase and uppercase)\n",
            "2. Letters and numbers\n",
            "3. Letters, numbers, and special characters\n",
            "Enter your choice (1/2/3): 2\n",
            "\n",
            "Generated Password: GR9luz\n"
          ]
        }
      ],
      "source": [
        "import random\n",
        "import string\n",
        "\n",
        "def password_generator():\n",
        "    print(\"Welcome to the Password Generator!\")\n",
        "\n",
        "\n",
        "    try:\n",
        "        length = int(input(\"Enter the desired password length: \"))\n",
        "        if length <= 0:\n",
        "            print(\"Please enter a positive number for the length.\")\n",
        "            return\n",
        "    except ValueError:\n",
        "        print(\"Invalid input. Please enter a numeric value.\")\n",
        "        return\n",
        "\n",
        "\n",
        "    lower = string.ascii_lowercase\n",
        "    upper = string.ascii_uppercase\n",
        "    digits = string.digits\n",
        "    special = string.punctuation\n",
        "\n",
        "\n",
        "    print(\"\\nChoose the password complexity:\")\n",
        "    print(\"1. Only letters (lowercase and uppercase)\")\n",
        "    print(\"2. Letters and numbers\")\n",
        "    print(\"3. Letters, numbers, and special characters\")\n",
        "\n",
        "    try:\n",
        "        choice = int(input(\"Enter your choice (1/2/3): \"))\n",
        "    except ValueError:\n",
        "        print(\"Invalid input. Please enter 1, 2, or 3.\")\n",
        "        return\n",
        "\n",
        "\n",
        "    if choice == 1:\n",
        "        char_pool = lower + upper\n",
        "    elif choice == 2:\n",
        "        char_pool = lower + upper + digits\n",
        "    elif choice == 3:\n",
        "        char_pool = lower + upper + digits + special\n",
        "    else:\n",
        "        print(\"Invalid choice. Please enter 1, 2, or 3.\")\n",
        "        return\n",
        "\n",
        "\n",
        "    password = ''.join(random.choice(char_pool) for _ in range(length))\n",
        "\n",
        "\n",
        "    print(f\"\\nGenerated Password: {password}\")\n",
        "\n",
        "\n",
        "password_generator()"
      ]
    },
    {
      "cell_type": "code",
      "source": [],
      "metadata": {
        "id": "UCRw7ckrsVgm"
      },
      "execution_count": null,
      "outputs": []
    }
  ]
}